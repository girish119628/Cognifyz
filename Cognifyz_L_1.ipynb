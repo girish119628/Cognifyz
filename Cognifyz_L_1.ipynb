{
  "nbformat": 4,
  "nbformat_minor": 0,
  "metadata": {
    "colab": {
      "provenance": [],
      "toc_visible": true
    },
    "kernelspec": {
      "name": "python3",
      "display_name": "Python 3"
    },
    "language_info": {
      "name": "python"
    }
  },
  "cells": [
    {
      "cell_type": "markdown",
      "source": [
        "# \"Unveiling Insights: A Data-Driven Exploration of Restaurants\""
      ],
      "metadata": {
        "id": "QnAVyrzwhZDU"
      }
    },
    {
      "cell_type": "markdown",
      "source": [
        "** LEVEL-1 **"
      ],
      "metadata": {
        "id": "GxiPrNOjjXEr"
      }
    },
    {
      "cell_type": "markdown",
      "source": [
        "#Data Cleaning"
      ],
      "metadata": {
        "id": "PXjniN0zhViP"
      }
    },
    {
      "cell_type": "code",
      "execution_count": 2,
      "metadata": {
        "colab": {
          "base_uri": "https://localhost:8080/",
          "height": 811
        },
        "collapsed": true,
        "id": "V_RlhvsGhReW",
        "outputId": "5e20a9d7-9c32-49c0-88b9-68eda49307a0"
      },
      "outputs": [
        {
          "output_type": "execute_result",
          "data": {
            "text/plain": [
              "   Restaurant ID         Restaurant Name  Country Code              City  \\\n",
              "0        6317637        Le Petit Souffle           162       Makati City   \n",
              "1        6304287        Izakaya Kikufuji           162       Makati City   \n",
              "2        6300002  Heat - Edsa Shangri-La           162  Mandaluyong City   \n",
              "3        6318506                    Ooma           162  Mandaluyong City   \n",
              "4        6314302             Sambo Kojin           162  Mandaluyong City   \n",
              "\n",
              "                                             Address  \\\n",
              "0  Third Floor, Century City Mall, Kalayaan Avenu...   \n",
              "1  Little Tokyo, 2277 Chino Roces Avenue, Legaspi...   \n",
              "2  Edsa Shangri-La, 1 Garden Way, Ortigas, Mandal...   \n",
              "3  Third Floor, Mega Fashion Hall, SM Megamall, O...   \n",
              "4  Third Floor, Mega Atrium, SM Megamall, Ortigas...   \n",
              "\n",
              "                                     Locality  \\\n",
              "0   Century City Mall, Poblacion, Makati City   \n",
              "1  Little Tokyo, Legaspi Village, Makati City   \n",
              "2  Edsa Shangri-La, Ortigas, Mandaluyong City   \n",
              "3      SM Megamall, Ortigas, Mandaluyong City   \n",
              "4      SM Megamall, Ortigas, Mandaluyong City   \n",
              "\n",
              "                                    Locality Verbose   Longitude   Latitude  \\\n",
              "0  Century City Mall, Poblacion, Makati City, Mak...  121.027535  14.565443   \n",
              "1  Little Tokyo, Legaspi Village, Makati City, Ma...  121.014101  14.553708   \n",
              "2  Edsa Shangri-La, Ortigas, Mandaluyong City, Ma...  121.056831  14.581404   \n",
              "3  SM Megamall, Ortigas, Mandaluyong City, Mandal...  121.056475  14.585318   \n",
              "4  SM Megamall, Ortigas, Mandaluyong City, Mandal...  121.057508  14.584450   \n",
              "\n",
              "                           Cuisines  ...          Currency Has Table booking  \\\n",
              "0        French, Japanese, Desserts  ...  Botswana Pula(P)               Yes   \n",
              "1                          Japanese  ...  Botswana Pula(P)               Yes   \n",
              "2  Seafood, Asian, Filipino, Indian  ...  Botswana Pula(P)               Yes   \n",
              "3                   Japanese, Sushi  ...  Botswana Pula(P)                No   \n",
              "4                  Japanese, Korean  ...  Botswana Pula(P)               Yes   \n",
              "\n",
              "  Has Online delivery Is delivering now Switch to order menu Price range  \\\n",
              "0                  No                No                   No           3   \n",
              "1                  No                No                   No           3   \n",
              "2                  No                No                   No           4   \n",
              "3                  No                No                   No           4   \n",
              "4                  No                No                   No           4   \n",
              "\n",
              "   Aggregate rating  Rating color Rating text Votes  \n",
              "0               4.8    Dark Green   Excellent   314  \n",
              "1               4.5    Dark Green   Excellent   591  \n",
              "2               4.4         Green   Very Good   270  \n",
              "3               4.9    Dark Green   Excellent   365  \n",
              "4               4.8    Dark Green   Excellent   229  \n",
              "\n",
              "[5 rows x 21 columns]"
            ],
            "text/html": [
              "\n",
              "  <div id=\"df-cd863a2f-4a8e-412e-9236-8678eaef28fc\" class=\"colab-df-container\">\n",
              "    <div>\n",
              "<style scoped>\n",
              "    .dataframe tbody tr th:only-of-type {\n",
              "        vertical-align: middle;\n",
              "    }\n",
              "\n",
              "    .dataframe tbody tr th {\n",
              "        vertical-align: top;\n",
              "    }\n",
              "\n",
              "    .dataframe thead th {\n",
              "        text-align: right;\n",
              "    }\n",
              "</style>\n",
              "<table border=\"1\" class=\"dataframe\">\n",
              "  <thead>\n",
              "    <tr style=\"text-align: right;\">\n",
              "      <th></th>\n",
              "      <th>Restaurant ID</th>\n",
              "      <th>Restaurant Name</th>\n",
              "      <th>Country Code</th>\n",
              "      <th>City</th>\n",
              "      <th>Address</th>\n",
              "      <th>Locality</th>\n",
              "      <th>Locality Verbose</th>\n",
              "      <th>Longitude</th>\n",
              "      <th>Latitude</th>\n",
              "      <th>Cuisines</th>\n",
              "      <th>...</th>\n",
              "      <th>Currency</th>\n",
              "      <th>Has Table booking</th>\n",
              "      <th>Has Online delivery</th>\n",
              "      <th>Is delivering now</th>\n",
              "      <th>Switch to order menu</th>\n",
              "      <th>Price range</th>\n",
              "      <th>Aggregate rating</th>\n",
              "      <th>Rating color</th>\n",
              "      <th>Rating text</th>\n",
              "      <th>Votes</th>\n",
              "    </tr>\n",
              "  </thead>\n",
              "  <tbody>\n",
              "    <tr>\n",
              "      <th>0</th>\n",
              "      <td>6317637</td>\n",
              "      <td>Le Petit Souffle</td>\n",
              "      <td>162</td>\n",
              "      <td>Makati City</td>\n",
              "      <td>Third Floor, Century City Mall, Kalayaan Avenu...</td>\n",
              "      <td>Century City Mall, Poblacion, Makati City</td>\n",
              "      <td>Century City Mall, Poblacion, Makati City, Mak...</td>\n",
              "      <td>121.027535</td>\n",
              "      <td>14.565443</td>\n",
              "      <td>French, Japanese, Desserts</td>\n",
              "      <td>...</td>\n",
              "      <td>Botswana Pula(P)</td>\n",
              "      <td>Yes</td>\n",
              "      <td>No</td>\n",
              "      <td>No</td>\n",
              "      <td>No</td>\n",
              "      <td>3</td>\n",
              "      <td>4.8</td>\n",
              "      <td>Dark Green</td>\n",
              "      <td>Excellent</td>\n",
              "      <td>314</td>\n",
              "    </tr>\n",
              "    <tr>\n",
              "      <th>1</th>\n",
              "      <td>6304287</td>\n",
              "      <td>Izakaya Kikufuji</td>\n",
              "      <td>162</td>\n",
              "      <td>Makati City</td>\n",
              "      <td>Little Tokyo, 2277 Chino Roces Avenue, Legaspi...</td>\n",
              "      <td>Little Tokyo, Legaspi Village, Makati City</td>\n",
              "      <td>Little Tokyo, Legaspi Village, Makati City, Ma...</td>\n",
              "      <td>121.014101</td>\n",
              "      <td>14.553708</td>\n",
              "      <td>Japanese</td>\n",
              "      <td>...</td>\n",
              "      <td>Botswana Pula(P)</td>\n",
              "      <td>Yes</td>\n",
              "      <td>No</td>\n",
              "      <td>No</td>\n",
              "      <td>No</td>\n",
              "      <td>3</td>\n",
              "      <td>4.5</td>\n",
              "      <td>Dark Green</td>\n",
              "      <td>Excellent</td>\n",
              "      <td>591</td>\n",
              "    </tr>\n",
              "    <tr>\n",
              "      <th>2</th>\n",
              "      <td>6300002</td>\n",
              "      <td>Heat - Edsa Shangri-La</td>\n",
              "      <td>162</td>\n",
              "      <td>Mandaluyong City</td>\n",
              "      <td>Edsa Shangri-La, 1 Garden Way, Ortigas, Mandal...</td>\n",
              "      <td>Edsa Shangri-La, Ortigas, Mandaluyong City</td>\n",
              "      <td>Edsa Shangri-La, Ortigas, Mandaluyong City, Ma...</td>\n",
              "      <td>121.056831</td>\n",
              "      <td>14.581404</td>\n",
              "      <td>Seafood, Asian, Filipino, Indian</td>\n",
              "      <td>...</td>\n",
              "      <td>Botswana Pula(P)</td>\n",
              "      <td>Yes</td>\n",
              "      <td>No</td>\n",
              "      <td>No</td>\n",
              "      <td>No</td>\n",
              "      <td>4</td>\n",
              "      <td>4.4</td>\n",
              "      <td>Green</td>\n",
              "      <td>Very Good</td>\n",
              "      <td>270</td>\n",
              "    </tr>\n",
              "    <tr>\n",
              "      <th>3</th>\n",
              "      <td>6318506</td>\n",
              "      <td>Ooma</td>\n",
              "      <td>162</td>\n",
              "      <td>Mandaluyong City</td>\n",
              "      <td>Third Floor, Mega Fashion Hall, SM Megamall, O...</td>\n",
              "      <td>SM Megamall, Ortigas, Mandaluyong City</td>\n",
              "      <td>SM Megamall, Ortigas, Mandaluyong City, Mandal...</td>\n",
              "      <td>121.056475</td>\n",
              "      <td>14.585318</td>\n",
              "      <td>Japanese, Sushi</td>\n",
              "      <td>...</td>\n",
              "      <td>Botswana Pula(P)</td>\n",
              "      <td>No</td>\n",
              "      <td>No</td>\n",
              "      <td>No</td>\n",
              "      <td>No</td>\n",
              "      <td>4</td>\n",
              "      <td>4.9</td>\n",
              "      <td>Dark Green</td>\n",
              "      <td>Excellent</td>\n",
              "      <td>365</td>\n",
              "    </tr>\n",
              "    <tr>\n",
              "      <th>4</th>\n",
              "      <td>6314302</td>\n",
              "      <td>Sambo Kojin</td>\n",
              "      <td>162</td>\n",
              "      <td>Mandaluyong City</td>\n",
              "      <td>Third Floor, Mega Atrium, SM Megamall, Ortigas...</td>\n",
              "      <td>SM Megamall, Ortigas, Mandaluyong City</td>\n",
              "      <td>SM Megamall, Ortigas, Mandaluyong City, Mandal...</td>\n",
              "      <td>121.057508</td>\n",
              "      <td>14.584450</td>\n",
              "      <td>Japanese, Korean</td>\n",
              "      <td>...</td>\n",
              "      <td>Botswana Pula(P)</td>\n",
              "      <td>Yes</td>\n",
              "      <td>No</td>\n",
              "      <td>No</td>\n",
              "      <td>No</td>\n",
              "      <td>4</td>\n",
              "      <td>4.8</td>\n",
              "      <td>Dark Green</td>\n",
              "      <td>Excellent</td>\n",
              "      <td>229</td>\n",
              "    </tr>\n",
              "  </tbody>\n",
              "</table>\n",
              "<p>5 rows × 21 columns</p>\n",
              "</div>\n",
              "    <div class=\"colab-df-buttons\">\n",
              "\n",
              "  <div class=\"colab-df-container\">\n",
              "    <button class=\"colab-df-convert\" onclick=\"convertToInteractive('df-cd863a2f-4a8e-412e-9236-8678eaef28fc')\"\n",
              "            title=\"Convert this dataframe to an interactive table.\"\n",
              "            style=\"display:none;\">\n",
              "\n",
              "  <svg xmlns=\"http://www.w3.org/2000/svg\" height=\"24px\" viewBox=\"0 -960 960 960\">\n",
              "    <path d=\"M120-120v-720h720v720H120Zm60-500h600v-160H180v160Zm220 220h160v-160H400v160Zm0 220h160v-160H400v160ZM180-400h160v-160H180v160Zm440 0h160v-160H620v160ZM180-180h160v-160H180v160Zm440 0h160v-160H620v160Z\"/>\n",
              "  </svg>\n",
              "    </button>\n",
              "\n",
              "  <style>\n",
              "    .colab-df-container {\n",
              "      display:flex;\n",
              "      gap: 12px;\n",
              "    }\n",
              "\n",
              "    .colab-df-convert {\n",
              "      background-color: #E8F0FE;\n",
              "      border: none;\n",
              "      border-radius: 50%;\n",
              "      cursor: pointer;\n",
              "      display: none;\n",
              "      fill: #1967D2;\n",
              "      height: 32px;\n",
              "      padding: 0 0 0 0;\n",
              "      width: 32px;\n",
              "    }\n",
              "\n",
              "    .colab-df-convert:hover {\n",
              "      background-color: #E2EBFA;\n",
              "      box-shadow: 0px 1px 2px rgba(60, 64, 67, 0.3), 0px 1px 3px 1px rgba(60, 64, 67, 0.15);\n",
              "      fill: #174EA6;\n",
              "    }\n",
              "\n",
              "    .colab-df-buttons div {\n",
              "      margin-bottom: 4px;\n",
              "    }\n",
              "\n",
              "    [theme=dark] .colab-df-convert {\n",
              "      background-color: #3B4455;\n",
              "      fill: #D2E3FC;\n",
              "    }\n",
              "\n",
              "    [theme=dark] .colab-df-convert:hover {\n",
              "      background-color: #434B5C;\n",
              "      box-shadow: 0px 1px 3px 1px rgba(0, 0, 0, 0.15);\n",
              "      filter: drop-shadow(0px 1px 2px rgba(0, 0, 0, 0.3));\n",
              "      fill: #FFFFFF;\n",
              "    }\n",
              "  </style>\n",
              "\n",
              "    <script>\n",
              "      const buttonEl =\n",
              "        document.querySelector('#df-cd863a2f-4a8e-412e-9236-8678eaef28fc button.colab-df-convert');\n",
              "      buttonEl.style.display =\n",
              "        google.colab.kernel.accessAllowed ? 'block' : 'none';\n",
              "\n",
              "      async function convertToInteractive(key) {\n",
              "        const element = document.querySelector('#df-cd863a2f-4a8e-412e-9236-8678eaef28fc');\n",
              "        const dataTable =\n",
              "          await google.colab.kernel.invokeFunction('convertToInteractive',\n",
              "                                                    [key], {});\n",
              "        if (!dataTable) return;\n",
              "\n",
              "        const docLinkHtml = 'Like what you see? Visit the ' +\n",
              "          '<a target=\"_blank\" href=https://colab.research.google.com/notebooks/data_table.ipynb>data table notebook</a>'\n",
              "          + ' to learn more about interactive tables.';\n",
              "        element.innerHTML = '';\n",
              "        dataTable['output_type'] = 'display_data';\n",
              "        await google.colab.output.renderOutput(dataTable, element);\n",
              "        const docLink = document.createElement('div');\n",
              "        docLink.innerHTML = docLinkHtml;\n",
              "        element.appendChild(docLink);\n",
              "      }\n",
              "    </script>\n",
              "  </div>\n",
              "\n",
              "\n",
              "<div id=\"df-50b9bb4e-b16f-4cd9-9147-ad29c34860f7\">\n",
              "  <button class=\"colab-df-quickchart\" onclick=\"quickchart('df-50b9bb4e-b16f-4cd9-9147-ad29c34860f7')\"\n",
              "            title=\"Suggest charts\"\n",
              "            style=\"display:none;\">\n",
              "\n",
              "<svg xmlns=\"http://www.w3.org/2000/svg\" height=\"24px\"viewBox=\"0 0 24 24\"\n",
              "     width=\"24px\">\n",
              "    <g>\n",
              "        <path d=\"M19 3H5c-1.1 0-2 .9-2 2v14c0 1.1.9 2 2 2h14c1.1 0 2-.9 2-2V5c0-1.1-.9-2-2-2zM9 17H7v-7h2v7zm4 0h-2V7h2v10zm4 0h-2v-4h2v4z\"/>\n",
              "    </g>\n",
              "</svg>\n",
              "  </button>\n",
              "\n",
              "<style>\n",
              "  .colab-df-quickchart {\n",
              "      --bg-color: #E8F0FE;\n",
              "      --fill-color: #1967D2;\n",
              "      --hover-bg-color: #E2EBFA;\n",
              "      --hover-fill-color: #174EA6;\n",
              "      --disabled-fill-color: #AAA;\n",
              "      --disabled-bg-color: #DDD;\n",
              "  }\n",
              "\n",
              "  [theme=dark] .colab-df-quickchart {\n",
              "      --bg-color: #3B4455;\n",
              "      --fill-color: #D2E3FC;\n",
              "      --hover-bg-color: #434B5C;\n",
              "      --hover-fill-color: #FFFFFF;\n",
              "      --disabled-bg-color: #3B4455;\n",
              "      --disabled-fill-color: #666;\n",
              "  }\n",
              "\n",
              "  .colab-df-quickchart {\n",
              "    background-color: var(--bg-color);\n",
              "    border: none;\n",
              "    border-radius: 50%;\n",
              "    cursor: pointer;\n",
              "    display: none;\n",
              "    fill: var(--fill-color);\n",
              "    height: 32px;\n",
              "    padding: 0;\n",
              "    width: 32px;\n",
              "  }\n",
              "\n",
              "  .colab-df-quickchart:hover {\n",
              "    background-color: var(--hover-bg-color);\n",
              "    box-shadow: 0 1px 2px rgba(60, 64, 67, 0.3), 0 1px 3px 1px rgba(60, 64, 67, 0.15);\n",
              "    fill: var(--button-hover-fill-color);\n",
              "  }\n",
              "\n",
              "  .colab-df-quickchart-complete:disabled,\n",
              "  .colab-df-quickchart-complete:disabled:hover {\n",
              "    background-color: var(--disabled-bg-color);\n",
              "    fill: var(--disabled-fill-color);\n",
              "    box-shadow: none;\n",
              "  }\n",
              "\n",
              "  .colab-df-spinner {\n",
              "    border: 2px solid var(--fill-color);\n",
              "    border-color: transparent;\n",
              "    border-bottom-color: var(--fill-color);\n",
              "    animation:\n",
              "      spin 1s steps(1) infinite;\n",
              "  }\n",
              "\n",
              "  @keyframes spin {\n",
              "    0% {\n",
              "      border-color: transparent;\n",
              "      border-bottom-color: var(--fill-color);\n",
              "      border-left-color: var(--fill-color);\n",
              "    }\n",
              "    20% {\n",
              "      border-color: transparent;\n",
              "      border-left-color: var(--fill-color);\n",
              "      border-top-color: var(--fill-color);\n",
              "    }\n",
              "    30% {\n",
              "      border-color: transparent;\n",
              "      border-left-color: var(--fill-color);\n",
              "      border-top-color: var(--fill-color);\n",
              "      border-right-color: var(--fill-color);\n",
              "    }\n",
              "    40% {\n",
              "      border-color: transparent;\n",
              "      border-right-color: var(--fill-color);\n",
              "      border-top-color: var(--fill-color);\n",
              "    }\n",
              "    60% {\n",
              "      border-color: transparent;\n",
              "      border-right-color: var(--fill-color);\n",
              "    }\n",
              "    80% {\n",
              "      border-color: transparent;\n",
              "      border-right-color: var(--fill-color);\n",
              "      border-bottom-color: var(--fill-color);\n",
              "    }\n",
              "    90% {\n",
              "      border-color: transparent;\n",
              "      border-bottom-color: var(--fill-color);\n",
              "    }\n",
              "  }\n",
              "</style>\n",
              "\n",
              "  <script>\n",
              "    async function quickchart(key) {\n",
              "      const quickchartButtonEl =\n",
              "        document.querySelector('#' + key + ' button');\n",
              "      quickchartButtonEl.disabled = true;  // To prevent multiple clicks.\n",
              "      quickchartButtonEl.classList.add('colab-df-spinner');\n",
              "      try {\n",
              "        const charts = await google.colab.kernel.invokeFunction(\n",
              "            'suggestCharts', [key], {});\n",
              "      } catch (error) {\n",
              "        console.error('Error during call to suggestCharts:', error);\n",
              "      }\n",
              "      quickchartButtonEl.classList.remove('colab-df-spinner');\n",
              "      quickchartButtonEl.classList.add('colab-df-quickchart-complete');\n",
              "    }\n",
              "    (() => {\n",
              "      let quickchartButtonEl =\n",
              "        document.querySelector('#df-50b9bb4e-b16f-4cd9-9147-ad29c34860f7 button');\n",
              "      quickchartButtonEl.style.display =\n",
              "        google.colab.kernel.accessAllowed ? 'block' : 'none';\n",
              "    })();\n",
              "  </script>\n",
              "</div>\n",
              "\n",
              "    </div>\n",
              "  </div>\n"
            ],
            "application/vnd.google.colaboratory.intrinsic+json": {
              "type": "dataframe",
              "variable_name": "df"
            }
          },
          "metadata": {},
          "execution_count": 2
        }
      ],
      "source": [
        "#Importing important libraries and csv file\n",
        "import numpy as np\n",
        "import pandas as pd\n",
        "import matplotlib.pyplot as plt\n",
        "import seaborn as sns\n",
        "import warnings\n",
        "warnings.filterwarnings('ignore')\n",
        "\n",
        "df = pd.read_csv('Dataset.csv')\n",
        "df.head()"
      ]
    },
    {
      "cell_type": "code",
      "source": [
        "#Getting the shape of Dataset\n",
        "df.shape"
      ],
      "metadata": {
        "colab": {
          "base_uri": "https://localhost:8080/"
        },
        "id": "y49ejwO_jvat",
        "outputId": "91b8e9da-eb59-48ec-f109-c618614c539f"
      },
      "execution_count": 3,
      "outputs": [
        {
          "output_type": "execute_result",
          "data": {
            "text/plain": [
              "(9551, 21)"
            ]
          },
          "metadata": {},
          "execution_count": 3
        }
      ]
    },
    {
      "cell_type": "code",
      "source": [
        "#Getting the information of Dataset\n",
        "df.info()"
      ],
      "metadata": {
        "colab": {
          "base_uri": "https://localhost:8080/"
        },
        "collapsed": true,
        "id": "7N6D0PxCj0b6",
        "outputId": "a4efa04c-cb3a-40f8-e0dd-d56a83248f86"
      },
      "execution_count": 4,
      "outputs": [
        {
          "output_type": "stream",
          "name": "stdout",
          "text": [
            "<class 'pandas.core.frame.DataFrame'>\n",
            "RangeIndex: 9551 entries, 0 to 9550\n",
            "Data columns (total 21 columns):\n",
            " #   Column                Non-Null Count  Dtype  \n",
            "---  ------                --------------  -----  \n",
            " 0   Restaurant ID         9551 non-null   int64  \n",
            " 1   Restaurant Name       9551 non-null   object \n",
            " 2   Country Code          9551 non-null   int64  \n",
            " 3   City                  9551 non-null   object \n",
            " 4   Address               9551 non-null   object \n",
            " 5   Locality              9551 non-null   object \n",
            " 6   Locality Verbose      9551 non-null   object \n",
            " 7   Longitude             9551 non-null   float64\n",
            " 8   Latitude              9551 non-null   float64\n",
            " 9   Cuisines              9542 non-null   object \n",
            " 10  Average Cost for two  9551 non-null   int64  \n",
            " 11  Currency              9551 non-null   object \n",
            " 12  Has Table booking     9551 non-null   object \n",
            " 13  Has Online delivery   9551 non-null   object \n",
            " 14  Is delivering now     9551 non-null   object \n",
            " 15  Switch to order menu  9551 non-null   object \n",
            " 16  Price range           9551 non-null   int64  \n",
            " 17  Aggregate rating      9551 non-null   float64\n",
            " 18  Rating color          9551 non-null   object \n",
            " 19  Rating text           9551 non-null   object \n",
            " 20  Votes                 9551 non-null   int64  \n",
            "dtypes: float64(3), int64(5), object(13)\n",
            "memory usage: 1.5+ MB\n"
          ]
        }
      ]
    },
    {
      "cell_type": "code",
      "source": [
        "#Checking for null-values in the Dataset\n",
        "df.isnull().sum()"
      ],
      "metadata": {
        "colab": {
          "base_uri": "https://localhost:8080/",
          "height": 743
        },
        "collapsed": true,
        "id": "g6lZlQvGj0jq",
        "outputId": "4119aa17-94cd-4a97-f189-a3f28dacd63a"
      },
      "execution_count": 5,
      "outputs": [
        {
          "output_type": "execute_result",
          "data": {
            "text/plain": [
              "Restaurant ID           0\n",
              "Restaurant Name         0\n",
              "Country Code            0\n",
              "City                    0\n",
              "Address                 0\n",
              "Locality                0\n",
              "Locality Verbose        0\n",
              "Longitude               0\n",
              "Latitude                0\n",
              "Cuisines                9\n",
              "Average Cost for two    0\n",
              "Currency                0\n",
              "Has Table booking       0\n",
              "Has Online delivery     0\n",
              "Is delivering now       0\n",
              "Switch to order menu    0\n",
              "Price range             0\n",
              "Aggregate rating        0\n",
              "Rating color            0\n",
              "Rating text             0\n",
              "Votes                   0\n",
              "dtype: int64"
            ],
            "text/html": [
              "<div>\n",
              "<style scoped>\n",
              "    .dataframe tbody tr th:only-of-type {\n",
              "        vertical-align: middle;\n",
              "    }\n",
              "\n",
              "    .dataframe tbody tr th {\n",
              "        vertical-align: top;\n",
              "    }\n",
              "\n",
              "    .dataframe thead th {\n",
              "        text-align: right;\n",
              "    }\n",
              "</style>\n",
              "<table border=\"1\" class=\"dataframe\">\n",
              "  <thead>\n",
              "    <tr style=\"text-align: right;\">\n",
              "      <th></th>\n",
              "      <th>0</th>\n",
              "    </tr>\n",
              "  </thead>\n",
              "  <tbody>\n",
              "    <tr>\n",
              "      <th>Restaurant ID</th>\n",
              "      <td>0</td>\n",
              "    </tr>\n",
              "    <tr>\n",
              "      <th>Restaurant Name</th>\n",
              "      <td>0</td>\n",
              "    </tr>\n",
              "    <tr>\n",
              "      <th>Country Code</th>\n",
              "      <td>0</td>\n",
              "    </tr>\n",
              "    <tr>\n",
              "      <th>City</th>\n",
              "      <td>0</td>\n",
              "    </tr>\n",
              "    <tr>\n",
              "      <th>Address</th>\n",
              "      <td>0</td>\n",
              "    </tr>\n",
              "    <tr>\n",
              "      <th>Locality</th>\n",
              "      <td>0</td>\n",
              "    </tr>\n",
              "    <tr>\n",
              "      <th>Locality Verbose</th>\n",
              "      <td>0</td>\n",
              "    </tr>\n",
              "    <tr>\n",
              "      <th>Longitude</th>\n",
              "      <td>0</td>\n",
              "    </tr>\n",
              "    <tr>\n",
              "      <th>Latitude</th>\n",
              "      <td>0</td>\n",
              "    </tr>\n",
              "    <tr>\n",
              "      <th>Cuisines</th>\n",
              "      <td>9</td>\n",
              "    </tr>\n",
              "    <tr>\n",
              "      <th>Average Cost for two</th>\n",
              "      <td>0</td>\n",
              "    </tr>\n",
              "    <tr>\n",
              "      <th>Currency</th>\n",
              "      <td>0</td>\n",
              "    </tr>\n",
              "    <tr>\n",
              "      <th>Has Table booking</th>\n",
              "      <td>0</td>\n",
              "    </tr>\n",
              "    <tr>\n",
              "      <th>Has Online delivery</th>\n",
              "      <td>0</td>\n",
              "    </tr>\n",
              "    <tr>\n",
              "      <th>Is delivering now</th>\n",
              "      <td>0</td>\n",
              "    </tr>\n",
              "    <tr>\n",
              "      <th>Switch to order menu</th>\n",
              "      <td>0</td>\n",
              "    </tr>\n",
              "    <tr>\n",
              "      <th>Price range</th>\n",
              "      <td>0</td>\n",
              "    </tr>\n",
              "    <tr>\n",
              "      <th>Aggregate rating</th>\n",
              "      <td>0</td>\n",
              "    </tr>\n",
              "    <tr>\n",
              "      <th>Rating color</th>\n",
              "      <td>0</td>\n",
              "    </tr>\n",
              "    <tr>\n",
              "      <th>Rating text</th>\n",
              "      <td>0</td>\n",
              "    </tr>\n",
              "    <tr>\n",
              "      <th>Votes</th>\n",
              "      <td>0</td>\n",
              "    </tr>\n",
              "  </tbody>\n",
              "</table>\n",
              "</div><br><label><b>dtype:</b> int64</label>"
            ]
          },
          "metadata": {},
          "execution_count": 5
        }
      ]
    },
    {
      "cell_type": "code",
      "source": [
        "#Checking for duplicates in the Dataset\n",
        "df.duplicated().sum()"
      ],
      "metadata": {
        "colab": {
          "base_uri": "https://localhost:8080/"
        },
        "id": "Qf5VJtdKj0nn",
        "outputId": "8e61efe9-e49d-4db7-c9e7-d64da8b0a341"
      },
      "execution_count": 6,
      "outputs": [
        {
          "output_type": "execute_result",
          "data": {
            "text/plain": [
              "0"
            ]
          },
          "metadata": {},
          "execution_count": 6
        }
      ]
    },
    {
      "cell_type": "code",
      "source": [
        "#Dealing the null-values in Cuisines using mode\n",
        "df['Cuisines'] = df['Cuisines'].fillna(df['Cuisines'].mode()[0])\n",
        "df.isnull().sum()"
      ],
      "metadata": {
        "colab": {
          "base_uri": "https://localhost:8080/",
          "height": 743
        },
        "collapsed": true,
        "id": "PjRwbTi3j0q2",
        "outputId": "a60bd1b0-4a2b-4484-da1c-cc644c9ad2d8"
      },
      "execution_count": 7,
      "outputs": [
        {
          "output_type": "execute_result",
          "data": {
            "text/plain": [
              "Restaurant ID           0\n",
              "Restaurant Name         0\n",
              "Country Code            0\n",
              "City                    0\n",
              "Address                 0\n",
              "Locality                0\n",
              "Locality Verbose        0\n",
              "Longitude               0\n",
              "Latitude                0\n",
              "Cuisines                0\n",
              "Average Cost for two    0\n",
              "Currency                0\n",
              "Has Table booking       0\n",
              "Has Online delivery     0\n",
              "Is delivering now       0\n",
              "Switch to order menu    0\n",
              "Price range             0\n",
              "Aggregate rating        0\n",
              "Rating color            0\n",
              "Rating text             0\n",
              "Votes                   0\n",
              "dtype: int64"
            ],
            "text/html": [
              "<div>\n",
              "<style scoped>\n",
              "    .dataframe tbody tr th:only-of-type {\n",
              "        vertical-align: middle;\n",
              "    }\n",
              "\n",
              "    .dataframe tbody tr th {\n",
              "        vertical-align: top;\n",
              "    }\n",
              "\n",
              "    .dataframe thead th {\n",
              "        text-align: right;\n",
              "    }\n",
              "</style>\n",
              "<table border=\"1\" class=\"dataframe\">\n",
              "  <thead>\n",
              "    <tr style=\"text-align: right;\">\n",
              "      <th></th>\n",
              "      <th>0</th>\n",
              "    </tr>\n",
              "  </thead>\n",
              "  <tbody>\n",
              "    <tr>\n",
              "      <th>Restaurant ID</th>\n",
              "      <td>0</td>\n",
              "    </tr>\n",
              "    <tr>\n",
              "      <th>Restaurant Name</th>\n",
              "      <td>0</td>\n",
              "    </tr>\n",
              "    <tr>\n",
              "      <th>Country Code</th>\n",
              "      <td>0</td>\n",
              "    </tr>\n",
              "    <tr>\n",
              "      <th>City</th>\n",
              "      <td>0</td>\n",
              "    </tr>\n",
              "    <tr>\n",
              "      <th>Address</th>\n",
              "      <td>0</td>\n",
              "    </tr>\n",
              "    <tr>\n",
              "      <th>Locality</th>\n",
              "      <td>0</td>\n",
              "    </tr>\n",
              "    <tr>\n",
              "      <th>Locality Verbose</th>\n",
              "      <td>0</td>\n",
              "    </tr>\n",
              "    <tr>\n",
              "      <th>Longitude</th>\n",
              "      <td>0</td>\n",
              "    </tr>\n",
              "    <tr>\n",
              "      <th>Latitude</th>\n",
              "      <td>0</td>\n",
              "    </tr>\n",
              "    <tr>\n",
              "      <th>Cuisines</th>\n",
              "      <td>0</td>\n",
              "    </tr>\n",
              "    <tr>\n",
              "      <th>Average Cost for two</th>\n",
              "      <td>0</td>\n",
              "    </tr>\n",
              "    <tr>\n",
              "      <th>Currency</th>\n",
              "      <td>0</td>\n",
              "    </tr>\n",
              "    <tr>\n",
              "      <th>Has Table booking</th>\n",
              "      <td>0</td>\n",
              "    </tr>\n",
              "    <tr>\n",
              "      <th>Has Online delivery</th>\n",
              "      <td>0</td>\n",
              "    </tr>\n",
              "    <tr>\n",
              "      <th>Is delivering now</th>\n",
              "      <td>0</td>\n",
              "    </tr>\n",
              "    <tr>\n",
              "      <th>Switch to order menu</th>\n",
              "      <td>0</td>\n",
              "    </tr>\n",
              "    <tr>\n",
              "      <th>Price range</th>\n",
              "      <td>0</td>\n",
              "    </tr>\n",
              "    <tr>\n",
              "      <th>Aggregate rating</th>\n",
              "      <td>0</td>\n",
              "    </tr>\n",
              "    <tr>\n",
              "      <th>Rating color</th>\n",
              "      <td>0</td>\n",
              "    </tr>\n",
              "    <tr>\n",
              "      <th>Rating text</th>\n",
              "      <td>0</td>\n",
              "    </tr>\n",
              "    <tr>\n",
              "      <th>Votes</th>\n",
              "      <td>0</td>\n",
              "    </tr>\n",
              "  </tbody>\n",
              "</table>\n",
              "</div><br><label><b>dtype:</b> int64</label>"
            ]
          },
          "metadata": {},
          "execution_count": 7
        }
      ]
    },
    {
      "cell_type": "markdown",
      "source": [
        "* There were 9 empty values in Cuisines and i fill them with mode and now we are ready to dive into the analysis."
      ],
      "metadata": {
        "id": "EkaTeYMMmI-V"
      }
    },
    {
      "cell_type": "markdown",
      "source": [
        "# Task 1: Top Cuisines\n",
        "* Determine the top three most common cuisines in the dataset.\n",
        "* Calculate the percentage of restaurants that serve each of the top cuisines."
      ],
      "metadata": {
        "id": "aAPJ-wvVo0FE"
      }
    },
    {
      "cell_type": "code",
      "source": [
        "# Split the 'Cuisines' column into individual cuisines and count occurrences\n",
        "cuisine_counts = df['Cuisines'].str.split(', ').explode().value_counts()\n",
        "\n",
        "top_cuisines = cuisine_counts.head(3)\n",
        "print(\"Top 3 Most Common Cuisines:\")\n",
        "print(top_cuisines)\n",
        "\n",
        "#visualize the output using pie chart\n",
        "colors = sns.color_palette(\"pastel\")[:3]\n",
        "plt.figure(figsize=(8, 8))\n",
        "plt.pie(\n",
        "    top_cuisines.values,\n",
        "    labels=top_cuisines.index,\n",
        "    autopct='%1.1f%%',\n",
        "    startangle=140,\n",
        "    colors=colors,\n",
        "    wedgeprops={\"edgecolor\": \"black\"},\n",
        ")\n",
        "plt.title(\"Top 3 Most Common Cuisines\")\n",
        "plt.show()"
      ],
      "metadata": {
        "colab": {
          "base_uri": "https://localhost:8080/",
          "height": 779
        },
        "id": "OyMlrFxHj0uA",
        "outputId": "2f8578ac-d8f7-4113-a1df-b716cf46c3ec"
      },
      "execution_count": 8,
      "outputs": [
        {
          "output_type": "stream",
          "name": "stdout",
          "text": [
            "Top 3 Most Common Cuisines:\n",
            "Cuisines\n",
            "North Indian    3969\n",
            "Chinese         2735\n",
            "Fast Food       1986\n",
            "Name: count, dtype: int64\n"
          ]
        },
        {
          "output_type": "display_data",
          "data": {
            "text/plain": [
              "<Figure size 800x800 with 1 Axes>"
            ],
            "image/png": "[encoded data removed]"
          },
          "metadata": {}
        }
      ]
    },
    {
      "cell_type": "code",
      "source": [
        "# Calculate the total number of restaurants\n",
        "total_restaurants = len(df)\n",
        "\n",
        "# Calculate the percentage of restaurants serving each of the top cuisines\n",
        "top_cuisines_percentages = round((top_cuisines / total_restaurants) * 100)\n",
        "\n",
        "# Display the percentages\n",
        "print(\"Percentage of Restaurants Serving Each of the Top Cuisines:\")\n",
        "print(top_cuisines_percentages)"
      ],
      "metadata": {
        "colab": {
          "base_uri": "https://localhost:8080/"
        },
        "id": "FoaFT3yWj0w2",
        "outputId": "aa787933-097c-45cb-ae24-7bb47c39e343"
      },
      "execution_count": 9,
      "outputs": [
        {
          "output_type": "stream",
          "name": "stdout",
          "text": [
            "Percentage of Restaurants Serving Each of the Top Cuisines:\n",
            "Cuisines\n",
            "North Indian    42.0\n",
            "Chinese         29.0\n",
            "Fast Food       21.0\n",
            "Name: count, dtype: float64\n"
          ]
        }
      ]
    },
    {
      "cell_type": "markdown",
      "source": [
        "# Task 2: City Analysis\n",
        "* Identify the city with the highest numberof restaurants in the dataset.\n",
        "* Calculate the average rating for restaurants in each city.\n",
        "* Determine the city with the highest average rating."
      ],
      "metadata": {
        "id": "VCm5_ojI0UoL"
      }
    },
    {
      "cell_type": "code",
      "source": [
        "#Count the number of restaurants in each city\n",
        "city_counts = df['City'].value_counts()\n",
        "\n",
        "#The city with the highest number of restaurants\n",
        "city_with_most_restaurants = city_counts.idxmax()\n",
        "highest_count = city_counts.max()\n",
        "\n",
        "print(f\"The city with the highest number of restaurants is '{city_with_most_restaurants}' with {highest_count} .\")"
      ],
      "metadata": {
        "colab": {
          "base_uri": "https://localhost:8080/"
        },
        "id": "rmzCzatVj04A",
        "outputId": "7e68d950-ef80-42c7-d4a8-b6bb03142ead"
      },
      "execution_count": 10,
      "outputs": [
        {
          "output_type": "stream",
          "name": "stdout",
          "text": [
            "The city with the highest number of restaurants is 'New Delhi' with 5473 .\n"
          ]
        }
      ]
    },
    {
      "cell_type": "code",
      "source": [
        "#Calculate the average rating for restaurants in each city\n",
        "average_ratings = df.groupby('City')['Aggregate rating'].mean().sort_values(ascending=False)\n",
        "\n",
        "# Display the result\n",
        "print(\"Average Rating for Restaurants in Each City:\")\n",
        "print(round(average_ratings))"
      ],
      "metadata": {
        "colab": {
          "base_uri": "https://localhost:8080/"
        },
        "id": "6JU_60Sjqs3j",
        "outputId": "14ff3694-f3b1-41c9-d46e-5a1f3f6e1846"
      },
      "execution_count": 11,
      "outputs": [
        {
          "output_type": "stream",
          "name": "stdout",
          "text": [
            "Average Rating for Restaurants in Each City:\n",
            "City\n",
            "Inner City          5.0\n",
            "Quezon City         5.0\n",
            "Makati City         5.0\n",
            "Pasig City          5.0\n",
            "Mandaluyong City    5.0\n",
            "                   ... \n",
            "New Delhi           2.0\n",
            "Montville           2.0\n",
            "Mc Millan           2.0\n",
            "Noida               2.0\n",
            "Faridabad           2.0\n",
            "Name: Aggregate rating, Length: 141, dtype: float64\n"
          ]
        }
      ]
    },
    {
      "cell_type": "code",
      "source": [
        "#City name highest avg rating\n",
        "print(\"\\nCity with the Highest Average Rating:\")\n",
        "print(average_ratings.idxmax())"
      ],
      "metadata": {
        "colab": {
          "base_uri": "https://localhost:8080/"
        },
        "id": "JQQ501SVqtBd",
        "outputId": "634d67be-e808-4823-fd2f-b33400f219e4"
      },
      "execution_count": 12,
      "outputs": [
        {
          "output_type": "stream",
          "name": "stdout",
          "text": [
            "\n",
            "City with the Highest Average Rating:\n",
            "Inner City\n"
          ]
        }
      ]
    },
    {
      "cell_type": "markdown",
      "source": [
        "# Task 3: Price Range Distribution\n",
        "\n",
        "* Create a histogram or bar chart to visualize the distribution of price ranges among the restaurants.\n",
        "* Calculate the percentage of restaurants in each price range category."
      ],
      "metadata": {
        "id": "Xl0R7o6y5SXu"
      }
    },
    {
      "cell_type": "code",
      "source": [
        "# Count the occurrences of each price range category\n",
        "price_range_counts = df['Price range'].value_counts()\n",
        "\n",
        "# Create a bar chart\n",
        "plt.figure(figsize=(8, 6))\n",
        "sns.barplot(x=price_range_counts.index, y=price_range_counts.values, palette='viridis')\n",
        "plt.xlabel('Price range')\n",
        "plt.ylabel('Number of Restaurants')\n",
        "plt.title('Distribution of Price Ranges Among Restaurants')\n",
        "plt.xticks(rotation=45)\n",
        "plt.show()"
      ],
      "metadata": {
        "colab": {
          "base_uri": "https://localhost:8080/",
          "height": 566
        },
        "id": "GXYVH_ZgqtXh",
        "outputId": "fb76b949-7e29-45e9-9367-2fb372aba04f"
      },
      "execution_count": 13,
      "outputs": [
        {
          "output_type": "display_data",
          "data": {
            "text/plain": [
              "<Figure size 800x600 with 1 Axes>"
            ],
            "image/png": "[encoded data removed]"
          },
          "metadata": {}
        }
      ]
    },
    {
      "cell_type": "code",
      "source": [
        "#Count the occurrences of each price range category\n",
        "price_range_counts = df['Price range'].value_counts()\n",
        "\n",
        "#Calculate the percentage for each category\n",
        "price_range_percentages = (price_range_counts / len(df)) * 100\n",
        "\n",
        "#Display the percentages\n",
        "print(\"Percentage of Restaurants in Each Price Range Category:\")\n",
        "print(price_range_percentages)\n",
        "\n",
        "#Create a pie chart\n",
        "plt.figure(figsize=(8, 8))\n",
        "colors = sns.color_palette(\"pastel\")[:len(price_range_percentages)]  # Generate a pastel color palette\n",
        "plt.pie(\n",
        "    price_range_percentages,\n",
        "    labels=price_range_percentages.index,\n",
        "    autopct='%1.1f%%',\n",
        "    startangle=140,\n",
        "    colors=colors,\n",
        "    wedgeprops={\"edgecolor\": \"black\"},\n",
        ")\n",
        "\n",
        "#Adding a title and display\n",
        "plt.title(\"Percentage of Restaurants in Each Price Range Category\")\n",
        "plt.show()"
      ],
      "metadata": {
        "colab": {
          "base_uri": "https://localhost:8080/",
          "height": 797
        },
        "id": "BcRY9I5Wqto2",
        "outputId": "337f02ba-7c14-40ab-df0f-9cd7f4e338d0"
      },
      "execution_count": 14,
      "outputs": [
        {
          "output_type": "stream",
          "name": "stdout",
          "text": [
            "Percentage of Restaurants in Each Price Range Category:\n",
            "Price range\n",
            "1    46.529159\n",
            "2    32.593446\n",
            "3    14.741912\n",
            "4     6.135483\n",
            "Name: count, dtype: float64\n"
          ]
        },
        {
          "output_type": "display_data",
          "data": {
            "text/plain": [
              "<Figure size 800x800 with 1 Axes>"
            ],
            "image/png": "[encoded data removed]"
          },
          "metadata": {}
        }
      ]
    },
    {
      "cell_type": "markdown",
      "source": [
        "# Task 4: Online Delivery\n",
        "* Determine the percentage of restaurants\n",
        "that offer online delivery.\n",
        "* Compare the average ratings of restaurants\n",
        "with and without online delivery."
      ],
      "metadata": {
        "id": "W81W4s8X6D9V"
      }
    },
    {
      "cell_type": "code",
      "source": [
        "#Restaurants offering online delivery\n",
        "delivery_count = df[df['Has Online delivery'] == 'Yes'].shape[1]\n",
        "\n",
        "#Percentage of restaurants offering online delivery\n",
        "delivery_percentage = (delivery_count / len(df)) * 100\n",
        "\n",
        "#Display the output\n",
        "print(f\"Percentage of Restaurants Offering Online Delivery: {delivery_percentage:.2f}%\")"
      ],
      "metadata": {
        "colab": {
          "base_uri": "https://localhost:8080/"
        },
        "id": "HKPUa51SlmeA",
        "outputId": "e5f882ad-ae98-4402-e601-a6966cb42def"
      },
      "execution_count": 15,
      "outputs": [
        {
          "output_type": "stream",
          "name": "stdout",
          "text": [
            "Percentage of Restaurants Offering Online Delivery: 0.22%\n"
          ]
        }
      ]
    },
    {
      "cell_type": "code",
      "source": [
        "#Group by 'Online Delivery' and calculate the average rating\n",
        "average_ratings_delivery = df.groupby('Has Online delivery')['Aggregate rating'].mean()\n",
        "\n",
        "#Display the output\n",
        "print(\"Average Ratings of Restaurants with and without Online Delivery:\")\n",
        "print(average_ratings_delivery)\n",
        "\n",
        "#Set the colors for the chart\n",
        "colors = sns.color_palette(\"pastel\")[:2]\n",
        "\n",
        "#The pie chart\n",
        "plt.figure(figsize=(8, 8))\n",
        "plt.pie(\n",
        "    average_ratings_delivery,\n",
        "    labels=average_ratings_delivery.index,\n",
        "    autopct='%1.1f%%',\n",
        "    startangle=140,\n",
        "    colors=colors,\n",
        "    wedgeprops={'edgecolor': 'black'},\n",
        "    pctdistance=0.85\n",
        ")\n",
        "\n",
        "#Create the donut shape\n",
        "center_circle = plt.Circle((0, 0), 0.70, fc='white')\n",
        "plt.gca().add_artist(center_circle)\n",
        "\n",
        "#Add a title and display the chart\n",
        "plt.title('Comparison of Average Ratings for Restaurants with and without Online Delivery')\n",
        "plt.show()"
      ],
      "metadata": {
        "colab": {
          "base_uri": "https://localhost:8080/",
          "height": 762
        },
        "id": "wEEsMLXxlmru",
        "outputId": "ad4837fe-74ce-43dd-e774-ea68706187fa"
      },
      "execution_count": 16,
      "outputs": [
        {
          "output_type": "stream",
          "name": "stdout",
          "text": [
            "Average Ratings of Restaurants with and without Online Delivery:\n",
            "Has Online delivery\n",
            "No     2.465296\n",
            "Yes    3.248837\n",
            "Name: Aggregate rating, dtype: float64\n"
          ]
        },
        {
          "output_type": "display_data",
          "data": {
            "text/plain": [
              "<Figure size 800x800 with 1 Axes>"
            ],
            "image/png": "[encoded data removed]"
          },
          "metadata": {}
        }
      ]
    },
    {
      "cell_type": "markdown",
      "source": [
        "* I have accomplished all the tasks and tried to visualize them using different plots and charts for better understanding."
      ],
      "metadata": {
        "id": "KQtloyT1nvEr"
      }
    }
  ]
}